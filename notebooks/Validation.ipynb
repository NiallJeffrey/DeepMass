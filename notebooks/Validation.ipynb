{
 "cells": [
  {
   "cell_type": "code",
   "execution_count": 2,
   "metadata": {},
   "outputs": [
    {
     "name": "stdout",
     "output_type": "stream",
     "text": [
      "['../', '../', '', '/Users/ucapnje/anaconda3/lib/python36.zip', '/Users/ucapnje/anaconda3/lib/python3.6', '/Users/ucapnje/anaconda3/lib/python3.6/lib-dynload', '/Users/ucapnje/.local/lib/python3.6/site-packages', '/Users/ucapnje/anaconda3/lib/python3.6/site-packages', '/Users/ucapnje/anaconda3/lib/python3.6/site-packages/aeosa', '/Users/ucapnje/anaconda3/lib/python3.6/site-packages/pydelfi-0.1-py3.6.egg', '/Users/ucapnje/anaconda3/lib/python3.6/site-packages/deepmass-0.1-py3.6.egg', '/Users/ucapnje/anaconda3/lib/python3.6/site-packages/skymapper-0.3.2-py3.6.egg', '/Users/ucapnje/anaconda3/lib/python3.6/site-packages/IPython/extensions', '/Users/ucapnje/.ipython']\n"
     ]
    }
   ],
   "source": [
    "%matplotlib inline\n",
    "import numpy as np\n",
    "import random\n",
    "import time\n",
    "from keras.models import load_model\n",
    "from scipy import fftpack\n",
    "import os, sys\n",
    "import scipy.ndimage as ndimage\n",
    "import healpy as hp\n",
    "from astropy.io import fits\n",
    "from importlib import reload \n",
    "from scipy.stats import pearsonr\n",
    "import scipy.stats as stats\n",
    "from scipy import interpolate\n",
    "import scipy.ndimage as ndimage\n",
    "\n",
    "import gc\n",
    "\n",
    "import matplotlib.pyplot as plt\n",
    "\n",
    "# sys path prepend and reload are for development\n",
    "sys.path = ['../'] + sys.path\n",
    "print(sys.path)"
   ]
  },
  {
   "cell_type": "code",
   "execution_count": 3,
   "metadata": {},
   "outputs": [
    {
     "data": {
      "text/plain": [
       "<module 'deepmass.wiener' from '../deepmass/wiener.py'>"
      ]
     },
     "execution_count": 3,
     "metadata": {},
     "output_type": "execute_result"
    }
   ],
   "source": [
    "# sys path prepend and reload are for development\n",
    "\n",
    "from deepmass import map_functions as mf\n",
    "from deepmass import lens_data as ld\n",
    "from deepmass import wiener\n",
    "\n",
    "reload(mf)\n",
    "reload(ld)\n",
    "reload(wiener)"
   ]
  },
  {
   "cell_type": "code",
   "execution_count": 4,
   "metadata": {},
   "outputs": [],
   "source": [
    "sv_mask = np.load('sv_mask.npy')"
   ]
  },
  {
   "cell_type": "code",
   "execution_count": 5,
   "metadata": {},
   "outputs": [],
   "source": [
    "# trained_model_file = '../outputs/h5_files/model_unet_weights_simplest3e-06.h5'\n",
    "trained_model_file = '../outputs/h5_files/model_unet_simplest1e-05.h5'\n",
    "model = load_model(trained_model_file)"
   ]
  },
  {
   "cell_type": "code",
   "execution_count": 6,
   "metadata": {},
   "outputs": [
    {
     "data": {
      "text/plain": [
       "7"
      ]
     },
     "execution_count": 6,
     "metadata": {},
     "output_type": "execute_result"
    }
   ],
   "source": [
    "wiener_array = np.load('../picola_training/validation_data/test_array_wiener.npy')\n",
    "gc.collect()"
   ]
  },
  {
   "cell_type": "code",
   "execution_count": 7,
   "metadata": {},
   "outputs": [
    {
     "data": {
      "text/plain": [
       "3"
      ]
     },
     "execution_count": 7,
     "metadata": {},
     "output_type": "execute_result"
    }
   ],
   "source": [
    "clean_array = np.load('../picola_training/validation_data/test_array_clean.npy')\n",
    "gc.collect()"
   ]
  },
  {
   "cell_type": "code",
   "execution_count": 8,
   "metadata": {},
   "outputs": [],
   "source": [
    "flattened_masked_wiener = [(ndimage.gaussian_filter(wiener_array[i,:,:,0], sigma=0.5).flatten())[np.where(sv_mask.flatten()>0.5)] \\\n",
    "                           for i in range(wiener_array.shape[0])]\n",
    "flattened_masked_clean = [(ndimage.gaussian_filter(clean_array[i,:,:,0], sigma=0.5).flatten())[np.where(sv_mask.flatten()>0.5)] \\\n",
    "                          for i in range(clean_array.shape[0])]\n",
    "\n",
    "flattened_masked_wiener = np.array(flattened_masked_wiener).flatten()\n",
    "flattened_masked_clean = np.array(flattened_masked_clean).flatten()"
   ]
  },
  {
   "cell_type": "markdown",
   "metadata": {},
   "source": [
    "# Apply model"
   ]
  },
  {
   "cell_type": "code",
   "execution_count": 9,
   "metadata": {},
   "outputs": [
    {
     "name": "stdout",
     "output_type": "stream",
     "text": [
      "3227.8084597587585\n"
     ]
    }
   ],
   "source": [
    "t=time.time()\n",
    "output_array = model.predict(wiener_array)\n",
    "gc.collect()\n",
    "print(time.time() -t)"
   ]
  },
  {
   "cell_type": "code",
   "execution_count": 10,
   "metadata": {},
   "outputs": [
    {
     "name": "stdout",
     "output_type": "stream",
     "text": [
      "0.00042692028\n",
      "4.7435586263115205e-05\n"
     ]
    }
   ],
   "source": [
    "print(np.mean((output_array.flatten() - clean_array.flatten())**2.))\n",
    "print(np.mean((output_array.flatten() - clean_array.flatten())**2.)/9.)\n"
   ]
  },
  {
   "cell_type": "code",
   "execution_count": 11,
   "metadata": {},
   "outputs": [
    {
     "name": "stdout",
     "output_type": "stream",
     "text": [
      "0.0004627225\n",
      "5.141361099150446e-05\n"
     ]
    }
   ],
   "source": [
    "print(np.mean((wiener_array.flatten() - clean_array.flatten())**2.))\n",
    "print(np.mean((wiener_array.flatten() - clean_array.flatten())**2.)/9.)\n"
   ]
  },
  {
   "cell_type": "code",
   "execution_count": 13,
   "metadata": {},
   "outputs": [
    {
     "name": "stdout",
     "output_type": "stream",
     "text": [
      "-0.0773729681968689\n"
     ]
    }
   ],
   "source": [
    "print(np.mean((output_array.flatten() - clean_array.flatten())**2.)/\n",
    "      np.mean((wiener_array.flatten() - clean_array.flatten())**2.) - 1.)"
   ]
  },
  {
   "cell_type": "code",
   "execution_count": 14,
   "metadata": {},
   "outputs": [],
   "source": [
    "flattened_masked_output = [(ndimage.gaussian_filter(output_array[i,:,:,0], sigma=0.5).flatten())[np.where(sv_mask.flatten()>0.5)] \\\n",
    "                           for i in range(output_array.shape[0])]\n",
    "\n",
    "flattened_masked_output = np.array(flattened_masked_output).flatten()"
   ]
  },
  {
   "cell_type": "code",
   "execution_count": 15,
   "metadata": {},
   "outputs": [
    {
     "name": "stdout",
     "output_type": "stream",
     "text": [
      "0.0005752247\n",
      "6.391385492558281e-05\n"
     ]
    }
   ],
   "source": [
    "print(np.mean((flattened_masked_output - flattened_masked_clean)**2.))\n",
    "print(np.mean((flattened_masked_output - flattened_masked_clean)**2.)/9.)"
   ]
  },
  {
   "cell_type": "code",
   "execution_count": 16,
   "metadata": {},
   "outputs": [
    {
     "name": "stdout",
     "output_type": "stream",
     "text": [
      "0.0006440086\n",
      "7.15565143360032e-05\n"
     ]
    }
   ],
   "source": [
    "print(np.mean((flattened_masked_wiener - flattened_masked_clean)**2.))\n",
    "print(np.mean((flattened_masked_wiener - flattened_masked_clean)**2.)/9.)"
   ]
  },
  {
   "cell_type": "code",
   "execution_count": 17,
   "metadata": {},
   "outputs": [
    {
     "name": "stdout",
     "output_type": "stream",
     "text": [
      "-0.10680592060089111\n"
     ]
    }
   ],
   "source": [
    "print(np.mean((flattened_masked_output - flattened_masked_clean)**2.)/\n",
    "      np.mean((flattened_masked_wiener - flattened_masked_clean)**2.) - 1.)"
   ]
  },
  {
   "cell_type": "code",
   "execution_count": null,
   "metadata": {},
   "outputs": [],
   "source": []
  }
 ],
 "metadata": {
  "kernelspec": {
   "display_name": "Python 3",
   "language": "python",
   "name": "python3"
  },
  "language_info": {
   "codemirror_mode": {
    "name": "ipython",
    "version": 3
   },
   "file_extension": ".py",
   "mimetype": "text/x-python",
   "name": "python",
   "nbconvert_exporter": "python",
   "pygments_lexer": "ipython3",
   "version": "3.6.7"
  }
 },
 "nbformat": 4,
 "nbformat_minor": 2
}
