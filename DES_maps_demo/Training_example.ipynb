{
 "cells": [
  {
   "cell_type": "markdown",
   "metadata": {},
   "source": [
    "# Example showing how to train the CNN\n",
    "## Training without a GPU takes a very long time"
   ]
  },
  {
   "cell_type": "code",
   "execution_count": null,
   "metadata": {},
   "outputs": [],
   "source": [
    "%matplotlib inline\n",
    "\n",
    "import numpy as np\n",
    "import time\n",
    "import os\n",
    "import sys\n",
    "import random\n",
    "import gc\n",
    "\n",
    "import matplotlib.pyplot as plt\n",
    "\n",
    "from deepmass import map_functions as mf\n",
    "from deepmass import lens_data as ld\n",
    "from deepmass import wiener\n",
    "from deepmass import cnn_keras as cnn"
   ]
  },
  {
   "cell_type": "markdown",
   "metadata": {},
   "source": [
    "# This demonstration uses the validation data as training data \n",
    "### (the separate full training data cannot fit on the git repository)"
   ]
  },
  {
   "cell_type": "code",
   "execution_count": null,
   "metadata": {},
   "outputs": [],
   "source": [
    "map_size = 256\n",
    "n_test = int(1000)\n",
    "n_epoch = 20\n",
    "batch_size = 32\n",
    "learning_rate = 1-5"
   ]
  },
  {
   "cell_type": "code",
   "execution_count": null,
   "metadata": {},
   "outputs": [],
   "source": [
    "# make SV mask\n",
    "mask = np.float32(np.real(np.where(np.load('../picola_training/Ncov.npy') > 1.0, 0.0, 1.0)))\n",
    "_ = plt.imshow(mask, origin='lower', clim=(0,1)), plt.colorbar()"
   ]
  },
  {
   "cell_type": "code",
   "execution_count": null,
   "metadata": {},
   "outputs": [],
   "source": [
    "wiener_array = np.load('../picola_training/validation_data/test_array_wiener.npy')\n",
    "gc.collect()"
   ]
  },
  {
   "cell_type": "code",
   "execution_count": null,
   "metadata": {},
   "outputs": [],
   "source": [
    "clean_array = np.load('../picola_training/validation_data/test_array_clean.npy')\n",
    "gc.collect()"
   ]
  },
  {
   "cell_type": "code",
   "execution_count": null,
   "metadata": {},
   "outputs": [],
   "source": [
    "train_array_noisy = wiener_array[n_test:]\n",
    "train_array_clean = clean_array[n_test:]\n",
    "\n",
    "test_array_noisy = wiener_array[:n_test]\n",
    "test_array_clean = clean_array[:n_test:]\n",
    "gc.collect()"
   ]
  },
  {
   "cell_type": "code",
   "execution_count": null,
   "metadata": {},
   "outputs": [],
   "source": [
    "train_gen = cnn.BatchGenerator(train_array_noisy, train_array_clean, gen_batch_size=batch_size)\n",
    "test_gen = cnn.BatchGenerator(test_array_noisy, test_array_clean, gen_batch_size=batch_size)"
   ]
  },
  {
   "cell_type": "markdown",
   "metadata": {},
   "source": [
    "# Load and train model"
   ]
  },
  {
   "cell_type": "code",
   "execution_count": null,
   "metadata": {},
   "outputs": [],
   "source": [
    "cnn_instance = cnn.UnetlikeBaseline(map_size=map_size, learning_rate=learning_rate)\n",
    "cnn_model = cnn_instance.model()\n"
   ]
  },
  {
   "cell_type": "code",
   "execution_count": null,
   "metadata": {},
   "outputs": [],
   "source": [
    "history = cnn_model.fit_generator(generator=train_gen,\n",
    "                         epochs=n_epoch,\n",
    "                         steps_per_epoch=np.ceil(train_array_noisy.shape[0] / int(batch_size)),\n",
    "                         validation_data=test_gen,\n",
    "                         validation_steps=np.ceil(test_array_noisy.shape[0] / int(batch_size)))\n",
    "\n",
    "gc.collect()"
   ]
  },
  {
   "cell_type": "code",
   "execution_count": null,
   "metadata": {},
   "outputs": [],
   "source": [
    "_ = plt.plot(np.arange(n_epoch)+1., history.history['loss'], label = 'loss', marker = 'o')\n",
    "_ = plt.plot(np.arange(n_epoch)+1., history.history['val_loss'], label = 'val loss', marker = 'x')\n",
    "_ = plt.legend()"
   ]
  },
  {
   "cell_type": "markdown",
   "metadata": {},
   "source": [
    "# Apply model"
   ]
  },
  {
   "cell_type": "code",
   "execution_count": null,
   "metadata": {},
   "outputs": [],
   "source": [
    "test_output = cnn_model.predict(test_array_noisy)"
   ]
  },
  {
   "cell_type": "code",
   "execution_count": null,
   "metadata": {},
   "outputs": [],
   "source": [
    "print('Result MSE =' + str(mf.mean_square_error(test_array_clean.flatten(),\n",
    "                                                test_output.flatten())))"
   ]
  },
  {
   "cell_type": "code",
   "execution_count": null,
   "metadata": {},
   "outputs": [],
   "source": [
    "xticks=[None,'65°','75°','85°']\n",
    "yticks=[]\n",
    "\n",
    "_ = plt.figure(figsize =(15,4.5))\n",
    "_ = plt.subplot(1,3,1), plt.title(r'${\\rm Truth\\ (Target)}$', fontsize=16)\n",
    "_ = plt.imshow(np.where(mask!=0., (test_array_clean[0,:,:,0] -0.5)/3, np.nan),\n",
    "               origin='lower', cmap='inferno', clim = (-0.025,0.025))\n",
    "\n",
    "\n",
    "plt.xlabel(r'${\\rm RA}$')\n",
    "plt.ylabel(r'${\\rm DEC}$', labelpad = 20.)\n",
    "\n",
    "_ = plt.subplot(1,3,2), plt.title(r'${\\rm Wiener\\ filter}$', fontsize=16)\n",
    "_ = plt.imshow(np.where(mask!=0., (test_array_noisy[0,:,:,0] -0.5)/3, np.nan),\n",
    "               origin='lower', cmap='inferno', clim = (-0.025,0.025))\n",
    "\n",
    "plt.xlabel(r'${\\rm RA}$')\n",
    "\n",
    "_ = plt.subplot(1,3,3), plt.title(r'${\\rm DeepMass}$', fontsize=16)\n",
    "_ = plt.imshow(np.where(mask!=0., (test_output[0,:,:,0] -0.5)/3, np.nan),\n",
    "               origin='lower', cmap='inferno', clim = (-0.025,0.025))\n",
    "plt.xlabel(r'${\\rm RA}$')\n",
    "\n",
    "plt.subplots_adjust(wspace=-0.3)\n"
   ]
  },
  {
   "cell_type": "code",
   "execution_count": null,
   "metadata": {},
   "outputs": [],
   "source": []
  }
 ],
 "metadata": {
  "kernelspec": {
   "display_name": "Python 3",
   "language": "python",
   "name": "python3"
  },
  "language_info": {
   "codemirror_mode": {
    "name": "ipython",
    "version": 3
   },
   "file_extension": ".py",
   "mimetype": "text/x-python",
   "name": "python",
   "nbconvert_exporter": "python",
   "pygments_lexer": "ipython3",
   "version": "3.6.7"
  }
 },
 "nbformat": 4,
 "nbformat_minor": 2
}
